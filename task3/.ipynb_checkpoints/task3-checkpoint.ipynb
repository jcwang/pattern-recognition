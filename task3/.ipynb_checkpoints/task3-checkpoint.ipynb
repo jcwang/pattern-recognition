{
 "cells": [
  {
   "cell_type": "code",
   "execution_count": 1,
   "id": "f80c1509",
   "metadata": {},
   "outputs": [
    {
     "name": "stdout",
     "output_type": "stream",
     "text": [
      "[0]\n",
      "女性\n"
     ]
    }
   ],
   "source": [
    "from sklearn.naive_bayes import GaussianNB\n",
    "import numpy as np\n",
    "#男性为1，女性为0\n",
    "X = np.array([[6, 180,12], [5.92,190,11], [5.58,170,12], [5.92,165,10], [5,100,6],\n",
    "              [5.5,150,8],[5.42,130,7],[5.75,150,9]])\n",
    "Y = np.array([1, 1, 1, 1, 0, 0,0,0])\n",
    "\n",
    "clf = GaussianNB()\n",
    "clf.fit(X, Y)\n",
    "GaussianNB()\n",
    "pred=clf.predict([[6,130,8]])\n",
    "print(pred)\n",
    "if pred==[0]:\n",
    "    print(\"女性\")\n",
    "else:\n",
    "    print('男性')"
   ]
  },
  {
   "cell_type": "code",
   "execution_count": null,
   "id": "29d68e7b",
   "metadata": {},
   "outputs": [],
   "source": []
  }
 ],
 "metadata": {
  "kernelspec": {
   "display_name": "Python 3",
   "language": "python",
   "name": "python3"
  },
  "language_info": {
   "codemirror_mode": {
    "name": "ipython",
    "version": 3
   },
   "file_extension": ".py",
   "mimetype": "text/x-python",
   "name": "python",
   "nbconvert_exporter": "python",
   "pygments_lexer": "ipython3",
   "version": "3.6.13"
  }
 },
 "nbformat": 4,
 "nbformat_minor": 5
}
