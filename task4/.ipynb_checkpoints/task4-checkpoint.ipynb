{
 "cells": [
  {
   "cell_type": "code",
   "execution_count": 2,
   "id": "45a44c77",
   "metadata": {},
   "outputs": [
    {
     "name": "stdout",
     "output_type": "stream",
     "text": [
      "准确率： 0.824\n",
      "最合适的K值为： 9\n",
      "{1: 0.81, 3: 0.814, 5: 0.815, 7: 0.816, 9: 0.817, 11: 0.816, 13: 0.815, 15: 0.815, 17: 0.814, 19: 0.813}\n"
     ]
    }
   ],
   "source": [
    "import numpy\n",
    "from matplotlib import pyplot as plt\n",
    "from sklearn.metrics import accuracy_score, plot_confusion_matrix\n",
    "from sklearn.model_selection import train_test_split\n",
    "from sklearn.neighbors import KNeighborsClassifier\n",
    "\n",
    "#导入数据\n",
    "PATH=\"fashion-mnist_test.csv\"\n",
    "DATA = numpy.loadtxt(PATH,delimiter = \",\", skiprows = 1)#跳过第一行！\n",
    "label = DATA[0:,0]# 加载类别标签部分\n",
    "\n",
    "data = DATA[0:,1:]  # 加载数据部分\n",
    "\n",
    "x_train, x_test, y_train, y_test = train_test_split(data, label, test_size = 0.2,random_state = 42)\n",
    "model = KNeighborsClassifier(n_neighbors=3)\n",
    "model.fit(x_train,y_train)\n",
    "KNeighborsClassifier()\n",
    "y_pred = model.predict(x_test)\n",
    "print(\"准确率：\",accuracy_score(y_test, y_pred))\n",
    "\n",
    "\n",
    "from sklearn.model_selection import KFold\n",
    "list=[]\n",
    "dic= {}#K值对应准确率\n",
    "\n",
    "for i in range(1,20,2):#一般k要求小于20！！！\n",
    "    kf = KFold(n_splits=5)\n",
    "    kf.get_n_splits(data)\n",
    "    for train_index, test_index in kf.split(data):\n",
    "        X_train, X_test = data[train_index], data[test_index]\n",
    "        y_train, y_test = label[train_index], label[test_index]\n",
    "        model = KNeighborsClassifier(n_neighbors=i)\n",
    "        model.fit(X_train, y_train)\n",
    "        KNeighborsClassifier()\n",
    "        y_pred = model.predict(X_test)\n",
    "        ACC=accuracy_score(y_test, y_pred)\n",
    "        list.append(ACC)\n",
    "    array=numpy.array(list)\n",
    "    ACC_mean=round(numpy.mean(array),3)\n",
    "    dic[i]=ACC_mean\n",
    "\n",
    "print(\"最合适的K值为：\",max(dic,key=dic.get))\n",
    "print(dic)\n",
    "\n",
    "\n"
   ]
  },
  {
   "cell_type": "code",
   "execution_count": null,
   "id": "73a1d7f1",
   "metadata": {},
   "outputs": [],
   "source": []
  }
 ],
 "metadata": {
  "kernelspec": {
   "display_name": "Python 3",
   "language": "python",
   "name": "python3"
  },
  "language_info": {
   "codemirror_mode": {
    "name": "ipython",
    "version": 3
   },
   "file_extension": ".py",
   "mimetype": "text/x-python",
   "name": "python",
   "nbconvert_exporter": "python",
   "pygments_lexer": "ipython3",
   "version": "3.6.13"
  }
 },
 "nbformat": 4,
 "nbformat_minor": 5
}
