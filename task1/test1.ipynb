{
 "cells": [
  {
   "cell_type": "code",
   "execution_count": 1,
   "id": "14ece196",
   "metadata": {},
   "outputs": [
    {
     "name": "stdout",
     "output_type": "stream",
     "text": [
      "混淆矩阵：\n",
      " [[766  38]\n",
      " [ 34 122]]\n",
      "\n",
      "TPR: 0.9575 \n",
      "FPR: 0.2375 \n",
      "Precision: 0.9527363184079602 \n",
      "Recall: 0.9575 \n",
      "F1_score: 0.9551122194513716 \n",
      "Accuracy: 0.925\n"
     ]
    },
    {
     "data": {
      "image/png": "[encoded data removed]",
      "text/plain": [
       "<Figure size 288x288 with 1 Axes>"
      ]
     },
     "metadata": {
      "needs_background": "light"
     },
     "output_type": "display_data"
    },
    {
     "data": {
      "image/png": "[encoded data removed]",
      "text/plain": [
       "<Figure size 432x288 with 1 Axes>"
      ]
     },
     "metadata": {
      "needs_background": "light"
     },
     "output_type": "display_data"
    },
    {
     "name": "stdout",
     "output_type": "stream",
     "text": [
      "AUC: 0.972921875\n"
     ]
    }
   ],
   "source": [
    "from numpy import loadtxt\n",
    "from sklearn.metrics import confusion_matrix\n",
    "import matplotlib.pyplot as plt\n",
    "from sklearn.metrics import roc_curve, auc\n",
    "# 读取数据\n",
    "score_csv_filename=\"score.csv\"\n",
    "label_csv_filename=\"label.csv\"\n",
    "with open(score_csv_filename,'rt',encoding='UTF-8')as raw_data:\n",
    "  score_data=loadtxt(raw_data,delimiter=',')\n",
    "with open(label_csv_filename,'rt',encoding='UTF-8')as raw_data:\n",
    "  label_data=loadtxt(raw_data,delimiter=',')\n",
    "\n",
    "# print(score_data)\n",
    "# print(label_data)\n",
    "\n",
    "#条件设置 数据分类\n",
    "threshold = 0.05\n",
    "pred = score_data > threshold\n",
    "label_p = label_data == 1\n",
    "\n",
    "#生成混淆矩阵\n",
    "my_confusion_matrix = confusion_matrix(label_p,pred,labels = [1,0]).T\n",
    "print(\"混淆矩阵：\\n\",my_confusion_matrix)\n",
    "\n",
    "#绘制混淆矩阵\n",
    "plt.matshow(my_confusion_matrix, cmap=plt.cm.Blues) \n",
    "for i in range(len(my_confusion_matrix)):\n",
    "    for j in range(len(my_confusion_matrix)):\n",
    "        plt.annotate(my_confusion_matrix[j, i], xy=(i, j), horizontalalignment='center', verticalalignment='center')\n",
    "\n",
    "plt.title('confusion matrix')\n",
    "plt.ylabel('label')\n",
    "plt.xlabel('score')\n",
    "plt.xticks(range(0,2),labels=['P','N'])\n",
    "plt.yticks(range(0,2),labels=['T','F'])\n",
    "plt.show\n",
    "\n",
    "tp,fp,fn,tn = my_confusion_matrix.ravel()\n",
    "# print(tp,tn,fp,fn)\n",
    "#计算\n",
    "Precision = tp/(tp +fp)\n",
    "Recall = tp/(tp+fn)\n",
    "F1_score =2*(Precision*Recall)/(Precision+Recall)\n",
    "Accuracy=(tp+tn)/(tp+fp+fn+tn)\n",
    "TPR = Recall\n",
    "FPR = fp/(fp+tn)\n",
    "print(\"\\nTPR:\",TPR,\"\\nFPR:\",FPR,\"\\nPrecision:\",Precision,\"\\nRecall:\",Recall,\"\\nF1_score:\",F1_score,\"\\nAccuracy:\",Accuracy)\n",
    "\n",
    "#绘制ROC曲线\n",
    "plt.figure()\n",
    "fpr, tpr, thersholds = roc_curve(label_data,score_data)\n",
    "plt.plot(fpr, tpr, 'k--',lw=2)\n",
    "plt.xlabel('False Positive Rate')\n",
    "plt.ylabel('True Positive Rate')\n",
    "plt.title('ROC Curve')\n",
    "plt.show()\n",
    "\n",
    "# 计算AUC\n",
    "roc_auc = auc(fpr, tpr)\n",
    "print(\"AUC:\",roc_auc)\n"
   ]
  },
  {
   "cell_type": "code",
   "execution_count": null,
   "id": "4afa3e88",
   "metadata": {},
   "outputs": [],
   "source": []
  },
  {
   "cell_type": "code",
   "execution_count": null,
   "id": "8887930f",
   "metadata": {},
   "outputs": [],
   "source": []
  },
  {
   "cell_type": "code",
   "execution_count": null,
   "id": "94b24f46",
   "metadata": {},
   "outputs": [],
   "source": []
  },
  {
   "cell_type": "code",
   "execution_count": null,
   "id": "599263c0",
   "metadata": {},
   "outputs": [],
   "source": []
  }
 ],
 "metadata": {
  "kernelspec": {
   "display_name": "Python 3",
   "language": "python",
   "name": "python3"
  },
  "language_info": {
   "codemirror_mode": {
    "name": "ipython",
    "version": 3
   },
   "file_extension": ".py",
   "mimetype": "text/x-python",
   "name": "python",
   "nbconvert_exporter": "python",
   "pygments_lexer": "ipython3",
   "version": "3.6.13"
  }
 },
 "nbformat": 4,
 "nbformat_minor": 5
}
