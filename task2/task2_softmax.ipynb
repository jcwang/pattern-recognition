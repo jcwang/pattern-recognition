{
 "cells": [
  {
   "cell_type": "code",
   "execution_count": 74,
   "id": "febc6de8",
   "metadata": {},
   "outputs": [
    {
     "name": "stdout",
     "output_type": "stream",
     "text": [
      "The prediction accuracy for all classes is: 96.00%\n"
     ]
    },
    {
     "data": {
      "image/png": "[encoded data removed]",
      "text/plain": [
       "<Figure size 432x288 with 1 Axes>"
      ]
     },
     "metadata": {
      "needs_background": "light"
     },
     "output_type": "display_data"
    }
   ],
   "source": [
    "from sklearn import datasets\n",
    "from sklearn.model_selection import train_test_split\n",
    "import numpy as np\n",
    "import matplotlib.pyplot as plt\n",
    "# 读入数据\n",
    "iris = datasets.load_iris()\n",
    "x = iris.data\n",
    "#x = x/np.max(x)\n",
    "y = iris.target\n",
    "\n",
    "# 划分训练集和测试集\n",
    "train_x, test_x, train_y, test_y = train_test_split(\n",
    "    x, y, test_size=0.33, random_state=0)\n",
    "#print(train_x)\n",
    "#encode y into onehot format\n",
    "nb_classes =3\n",
    "targets = train_y.reshape(-1)\n",
    "y_onehot = np.eye(nb_classes)[targets]\n",
    "\n",
    "#损失函数\n",
    "def obj_fun(y,p):\n",
    "    tmp = y*np.log(p)\n",
    "    return np.sum(-tmp)\n",
    "\n",
    "#初始化W\n",
    "num_train = train_y.shape[0]\n",
    "W0 = np.random.random([3,4])\n",
    "\n",
    "#定义的softmax函数\n",
    "def mysoft(x):\n",
    "    y = np.exp(x)\n",
    "    y = y/np.sum(y,axis =0)\n",
    "    return y\n",
    "\n",
    "#批处理方法求解W\n",
    "iter = 0\n",
    "r = 0.0012\n",
    "loss = []\n",
    "while iter < 1000:\n",
    "    deltaW = np.zeros([3,1])\n",
    "    temp_p = mysoft(W0.dot(train_x.T))\n",
    "    deltaW = (y_onehot.T - temp_p).dot(train_x)\n",
    "    W0 = W0 + r*deltaW\n",
    "    loss.append(obj_fun(y_onehot.T,temp_p))\n",
    "    iter = iter +1\n",
    "\n",
    "#对验证集进行测试，并得到识别率\n",
    "tmp_pre = mysoft(W0.dot(test_x.T))\n",
    "indice = np.argmax(tmp_pre,axis = 0)\n",
    "pre = indice\n",
    "\n",
    "plt.plot(loss) \n",
    "\n",
    "correct = pre.reshape(-1) == test_y.reshape(-1)\n",
    "acc = sum(correct.astype(int))/test_y.shape[0]\n",
    "print('The prediction accuracy for all classes is: %.2f%%' %(acc*100))"
   ]
  },
  {
   "cell_type": "code",
   "execution_count": null,
   "id": "4a2c2fb0",
   "metadata": {},
   "outputs": [],
   "source": []
  }
 ],
 "metadata": {
  "kernelspec": {
   "display_name": "Python 3",
   "language": "python",
   "name": "python3"
  },
  "language_info": {
   "codemirror_mode": {
    "name": "ipython",
    "version": 3
   },
   "file_extension": ".py",
   "mimetype": "text/x-python",
   "name": "python",
   "nbconvert_exporter": "python",
   "pygments_lexer": "ipython3",
   "version": "3.6.13"
  }
 },
 "nbformat": 4,
 "nbformat_minor": 5
}
