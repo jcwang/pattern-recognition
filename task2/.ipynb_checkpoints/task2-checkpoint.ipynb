{
 "cells": [
  {
   "cell_type": "code",
   "execution_count": 4,
   "id": "a042fbf1",
   "metadata": {},
   "outputs": [
    {
     "data": {
      "text/plain": [
       "array([0, 0, 0, 0, 0, 0, 0, 0, 0, 0, 0, 0, 0, 0, 0, 0, 0, 0, 0, 0, 0, 0,\n",
       "       0, 0, 0, 0, 0, 0, 0, 0, 0, 0, 0, 0, 0, 0, 0, 0, 0, 0, 0, 0, 0, 0,\n",
       "       0, 0, 0, 0, 0, 0, 1, 1, 1, 1, 1, 1, 1, 1, 1, 1, 1, 1, 1, 1, 1, 1,\n",
       "       1, 1, 1, 1, 1, 1, 1, 1, 1, 1, 1, 1, 1, 1, 1, 1, 1, 1, 1, 1, 1, 1,\n",
       "       1, 1, 1, 1, 1, 1, 1, 1, 1, 1, 1, 1])"
      ]
     },
     "execution_count": 4,
     "metadata": {},
     "output_type": "execute_result"
    }
   ],
   "source": [
    "from sklearn import datasets\n",
    "from sklearn.model_selection import train_test_split\n",
    "import numpy as np\n",
    "import matplotlib.pyplot as plt\n",
    "# 读入数据\n",
    "iris = datasets.load_iris()\n",
    "X = iris.data \n",
    "y = iris.target\n",
    "Data =np.c_[X[50:,:],np.ones([100,1])]\n",
    "\n",
    "label = y[50:]-1  #第二类和第三类原始的label是2，3\n",
    "label"
   ]
  },
  {
   "cell_type": "code",
   "execution_count": 7,
   "id": "31cf4caf",
   "metadata": {},
   "outputs": [
    {
     "name": "stdout",
     "output_type": "stream",
     "text": [
      "**-------------------------**\n",
      "The weights are:\n",
      "\n",
      "[[-2.21961017]\n",
      " [-1.90897957]\n",
      " [ 3.03889592]\n",
      " [ 2.9771087 ]\n",
      " [-0.57270039]]\n",
      "**-------------------------**\n"
     ]
    },
    {
     "data": {
      "text/plain": [
       "[<matplotlib.lines.Line2D at 0x7feb624892b0>]"
      ]
     },
     "execution_count": 7,
     "metadata": {},
     "output_type": "execute_result"
    },
    {
     "data": {
      "image/png": "[encoded data removed]",
      "text/plain": [
       "<Figure size 432x288 with 1 Axes>"
      ]
     },
     "metadata": {
      "needs_background": "light"
     },
     "output_type": "display_data"
    }
   ],
   "source": [
    "# 划分训练集和测试集\n",
    "X_train, X_test, y_train, y_test = train_test_split(\n",
    "    Data, label, test_size=0.33, random_state=42)\n",
    "\n",
    "# sigmoid function\n",
    "def my_sigmoid(w,x):\n",
    "    return  1/(1+np.exp(-w.T.dot(x.T)))\n",
    "# 损失函数\n",
    "def obj_fun(w,x,y):\n",
    "    tmp = y.reshape(1,-1)*np.log(my_sigmoid(w,x)) + \\\n",
    "    (1-y.reshape(1,-1))*np.log(1-my_sigmoid(w,x))\n",
    "    return np.sum(-tmp)\n",
    "# 计算随机梯度的函数\n",
    "def my_Stgrad(w,x,y):\n",
    "    return (my_sigmoid(w,x) - y)*x.T\n",
    "\n",
    "# 随机梯度下降求解逻辑斯蒂回归\n",
    "#初始化 \n",
    "w = np.random.random([5,1])\n",
    "alpha = 0.01 # learning rate\n",
    "obj = obj_fun(w,X_train,y_train)\n",
    "row,_ = X_train.shape\n",
    "loss = []\n",
    "for iter in range(100):  # epoch = 100\n",
    "    idx = np.random.permutation(row) # 每个epoch随机打乱数据\n",
    "    for num in range(row):\n",
    "        tmp_x = X_train[idx[num],:].reshape(1,-1)\n",
    "        tmp_y = y_train[idx[num]]\n",
    "        # 用负梯度方向更新w\n",
    "        w = w - alpha*my_Stgrad(w,tmp_x,tmp_y)\n",
    "        # 记录每次调整后的损失，实际是不需要的\n",
    "        loss.append(obj_fun(w,X_train,y_train))\n",
    "    new_obj = obj_fun(w,X_train,y_train)\n",
    "    if np.abs(new_obj - obj)< 0.001:\n",
    "        print('The number of iteration: %d epochs'%iter)\n",
    "        break\n",
    "    else:\n",
    "        obj = new_obj\n",
    "print('**-------------------------**')\n",
    "print('The weights are:\\n')\n",
    "print(w)\n",
    "print('**-------------------------**')\n",
    "plt.plot(loss) "
   ]
  },
  {
   "cell_type": "code",
   "execution_count": 13,
   "id": "9183c00a",
   "metadata": {},
   "outputs": [
    {
     "name": "stdout",
     "output_type": "stream",
     "text": [
      "The prediction accuracy for Class 2 and Class 3 is: 90.91%\n"
     ]
    }
   ],
   "source": [
    "# 对测试数据进行预测\n",
    "pred = my_sigmoid(w,X_test)>0.5\n",
    "Acc = 1 - np.sum((1*pred) !=y_test)/y_test.size\n",
    "print('The prediction accuracy for Class 2 and Class 3 is: %.2f%%' %(Acc*100))\n",
    "\n"
   ]
  },
  {
   "cell_type": "code",
   "execution_count": null,
   "id": "48eb672c",
   "metadata": {},
   "outputs": [],
   "source": []
  }
 ],
 "metadata": {
  "kernelspec": {
   "display_name": "Python 3",
   "language": "python",
   "name": "python3"
  },
  "language_info": {
   "codemirror_mode": {
    "name": "ipython",
    "version": 3
   },
   "file_extension": ".py",
   "mimetype": "text/x-python",
   "name": "python",
   "nbconvert_exporter": "python",
   "pygments_lexer": "ipython3",
   "version": "3.6.13"
  }
 },
 "nbformat": 4,
 "nbformat_minor": 5
}
