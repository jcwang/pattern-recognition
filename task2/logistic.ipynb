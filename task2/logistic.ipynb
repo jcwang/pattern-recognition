{
 "cells": [
  {
   "cell_type": "code",
   "execution_count": 1,
   "id": "799effec",
   "metadata": {},
   "outputs": [
    {
     "name": "stdout",
     "output_type": "stream",
     "text": [
      "the weight of Logistic Regression:\n",
      " [[-0.45928925  0.83069893 -2.26606528 -0.99743983]\n",
      " [ 0.33117319 -0.72863427 -0.06841147 -0.98711029]\n",
      " [ 0.12811605 -0.10206466  2.33447675  1.98455011]]\n",
      "the intercept(w0) of Logistic Regression:\n",
      " [  9.43880648   3.93047366 -13.36928014]\n",
      "The test predict Probability of each class:\n",
      " [[1.03461744e-05 2.33279482e-02 9.76661706e-01]\n",
      " [9.69926591e-01 3.00732871e-02 1.21677013e-07]\n",
      " [2.09992556e-02 8.69156613e-01 1.09844131e-01]\n",
      " [3.61934880e-03 7.91979964e-01 2.04400687e-01]\n",
      " [7.90943230e-03 8.00605296e-01 1.91485272e-01]\n",
      " [7.30034943e-04 6.60508053e-01 3.38761912e-01]\n",
      " [1.68614215e-04 1.86322047e-01 8.13509339e-01]\n",
      " [1.06915328e-01 8.90815535e-01 2.26913684e-03]\n",
      " [9.46928073e-01 5.30707270e-02 1.20016068e-06]\n",
      " [9.62346387e-01 3.76532213e-02 3.91897322e-07]\n",
      " [1.19533394e-04 1.38823471e-01 8.61056996e-01]\n",
      " [8.78881872e-03 6.97207354e-01 2.94003828e-01]\n",
      " [9.73938144e-01 2.60617330e-02 1.22613847e-07]\n",
      " [1.78434059e-03 4.79518175e-01 5.18697484e-01]\n",
      " [5.56924354e-04 2.46776840e-01 7.52666235e-01]\n",
      " [9.83549843e-01 1.64500656e-02 9.13617317e-08]\n",
      " [1.65201472e-02 9.54672748e-01 2.88071050e-02]\n",
      " [8.99853767e-03 7.82707573e-01 2.08293890e-01]\n",
      " [2.98015043e-05 5.45900079e-02 9.45380191e-01]\n",
      " [9.35695860e-01 6.43039550e-02 1.85301397e-07]\n",
      " [9.80621191e-01 1.93787393e-02 7.00125326e-08]\n",
      " [1.68478824e-04 3.30167230e-01 6.69664291e-01]\n",
      " [3.54046185e-03 4.02267802e-01 5.94191737e-01]\n",
      " [9.70617286e-01 2.93824720e-02 2.42443985e-07]\n",
      " [2.56895220e-04 1.54631585e-01 8.45111520e-01]\n",
      " [3.48668506e-02 9.11966137e-01 5.31670125e-02]\n",
      " [1.47218859e-02 6.84038109e-01 3.01240005e-01]\n",
      " [9.46510500e-04 4.28641988e-01 5.70411501e-01]\n",
      " [9.64848138e-01 3.51516742e-02 1.87917905e-07]\n",
      " [9.70436781e-01 2.95624007e-02 8.18591669e-07]]\n",
      "The accuracy of the Logistic Regression is: 0.9833333333333333\n",
      "The accuracy of the Logistic Regression is: 0.8666666666666667\n",
      "The confusion matrix result:\n",
      " [[10  0  0]\n",
      " [ 0  8  2]\n",
      " [ 0  2  8]]\n"
     ]
    },
    {
     "data": {
      "image/png": "[encoded data removed]",
      "text/plain": [
       "<Figure size 576x432 with 2 Axes>"
      ]
     },
     "metadata": {
      "needs_background": "light"
     },
     "output_type": "display_data"
    }
   ],
   "source": [
    "##  基础函数库\n",
    "import numpy as np \n",
    "import pandas as pd\n",
    "import seaborn as sns\n",
    "\n",
    "## 绘图函数库\n",
    "import matplotlib.pyplot as plt\n",
    "from sklearn.model_selection import train_test_split\n",
    "from sklearn.linear_model import LogisticRegression\n",
    "from sklearn import metrics\n",
    "\n",
    "##我们利用sklearn中自带的iris数据作为数据载入，并利用Pandas转化为DataFrame格式\n",
    "from sklearn.datasets import load_iris\n",
    "data = load_iris() #得到数据特征\n",
    "iris_target = data.target #得到数据对应的标签\n",
    "iris_features = pd.DataFrame(data=data.data, columns=data.feature_names) #利用Pandas转化为DataFrame格式码片\n",
    "\n",
    "\n",
    "##测试集大小为20%，80%/20%分\n",
    "x_train,x_test,y_train,y_test=train_test_split(iris_features,iris_target,test_size=0.2,random_state=2020)\n",
    "##定义逻辑回归模型\n",
    "clf=LogisticRegression(random_state=0,solver='lbfgs')\n",
    "##在训练集上训练逻辑回归模型\n",
    "clf.fit(x_train,y_train)\n",
    "##查看其对应的w\n",
    "print('the weight of Logistic Regression:\\n',clf.coef_)\n",
    "##查看其对应的w0\n",
    "print('the intercept(w0) of Logistic Regression:\\n',clf.intercept_)\n",
    "##由于这个是3分类，所有我们这里得到了三个逻辑回归模型的参数，其三个逻辑回归组合起来即可实现三分类\n",
    "##在训练集和测试集上分布利用训练好的模型进行预测\n",
    "train_predict=clf.predict(x_train)\n",
    "test_predict=clf.predict(x_test)\n",
    "##由于逻辑回归模型是概率预测模型（前文介绍的p=p(y=1|x,\\theta)）,所有我们可以利用predict_proba函数预测其概率\n",
    "\n",
    "train_predict_proba=clf.predict_proba(x_train)\n",
    "test_predict_proba=clf.predict_proba(x_test)\n",
    "\n",
    "print('The test predict Probability of each class:\\n',test_predict_proba)\n",
    "##其中第一列代表预测为0类的概率，第二列代表预测为1类的概率，第三列代表预测为2类的概率。\n",
    "\n",
    "##利用accuracy（准确度）【预测正确的样本数目占总预测样本数目的比例】评估模型效果\n",
    "print('The accuracy of the Logistic Regression is:',metrics.accuracy_score(y_train,train_predict))\n",
    "print('The accuracy of the Logistic Regression is:',metrics.accuracy_score(y_test,test_predict))\n",
    "##查看混淆矩阵\n",
    "confusion_matrix_result=metrics.confusion_matrix(test_predict,y_test)\n",
    "print('The confusion matrix result:\\n',confusion_matrix_result)\n",
    "\n",
    "##对于结果进行可视化\n",
    "plt.figure(figsize=(8,6))\n",
    "sns.heatmap(confusion_matrix_result,annot=True,cmap='Blues')\n",
    "plt.xlabel('Predicted labels')\n",
    "plt.ylabel('True labels')\n",
    "plt.show()\n",
    "\n",
    "##The confusion matrix result:\n",
    "##[[10  0   0]\n",
    "##[0   7   3] \n",
    "##[0   3   7]]\n"
   ]
  },
  {
   "cell_type": "code",
   "execution_count": null,
   "id": "97f4296f",
   "metadata": {},
   "outputs": [],
   "source": []
  }
 ],
 "metadata": {
  "kernelspec": {
   "display_name": "Python 3",
   "language": "python",
   "name": "python3"
  },
  "language_info": {
   "codemirror_mode": {
    "name": "ipython",
    "version": 3
   },
   "file_extension": ".py",
   "mimetype": "text/x-python",
   "name": "python",
   "nbconvert_exporter": "python",
   "pygments_lexer": "ipython3",
   "version": "3.6.13"
  }
 },
 "nbformat": 4,
 "nbformat_minor": 5
}
